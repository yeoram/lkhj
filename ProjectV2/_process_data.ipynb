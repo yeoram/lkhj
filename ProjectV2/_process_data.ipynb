{
 "cells": [
  {
   "cell_type": "code",
   "execution_count": 161,
   "id": "e69e4cd3",
   "metadata": {},
   "outputs": [],
   "source": [
    "# Project V2.0\n",
    "# Contents : Seoul Restaurant csv file Process\n",
    "# Coding   : ejlee\n",
    "# Date     : 2023.05.19\n",
    "# Description : 서울시 관광식당 인허가 정보.csv -> tour_r.csv 각각 읽어서 합치기\n",
    "\n",
    "import numpy as np\n",
    "import pandas as pd\n",
    "import datetime\n",
    "\n",
    "\n",
    "df_source = pd.read_csv('./srData/01tour_r.csv', encoding='CP949')\n",
    "\n",
    "#필요컬럼 필수-이름 선택-우편번호?, 지번주소, 도로명주소, 전화번호 => 새로운 CSV로 저장  \n",
    "df_data = pd.DataFrame({\n",
    "    'store': df_source.loc[df_source['영업상태코드'] == 1, '사업장명'].values,\n",
    "    'tel': df_source.loc[df_source['영업상태코드'] == 1, '전화번호'].values,\n",
    "    'jibeon addr': df_source.loc[df_source['영업상태코드'] == 1, '지번주소'].values,\n",
    "    'road addr': df_source.loc[df_source['영업상태코드'] == 1, '도로명주소'].values,\n",
    "    'gu': 'nan' ,\n",
    "    'main food': 'nan', #주된음식\n",
    "    'reg date': datetime.datetime.now().strftime(\"%Y-%m-%d\")\n",
    "})\n",
    "\n",
    "#구 : 도로명주소에서 구 정보만 추가\n",
    "#df_data['gu'] = df_data['road addr'].apply(lambda x: x.split(' ')[1] if len(x.split(' ')) > 1 else '')\n",
    "df_data['gu'] = df_data['road addr'].apply(lambda x: x.split(' ')[1] if isinstance(x, str) and len(x.split(' ')) > 1 else '')\n",
    "\n",
    "df_data.head() \n",
    "\n",
    "#csv파일 저장\n",
    "df_data.to_csv('./svData/restaurant.csv', index = False, encoding = 'CP949') #서울시 관광식당 인허가 정보.csv"
   ]
  },
  {
   "cell_type": "code",
   "execution_count": 162,
   "id": "dc4b3e42",
   "metadata": {
    "scrolled": true
   },
   "outputs": [
    {
     "name": "stdout",
     "output_type": "stream",
     "text": [
      "<class 'pandas.core.frame.DataFrame'>\n",
      "RangeIndex: 135 entries, 0 to 134\n",
      "Data columns (total 7 columns):\n",
      " #   Column       Non-Null Count  Dtype \n",
      "---  ------       --------------  ----- \n",
      " 0   store        135 non-null    object\n",
      " 1   tel          123 non-null    object\n",
      " 2   jibeon addr  135 non-null    object\n",
      " 3   road addr    121 non-null    object\n",
      " 4   gu           121 non-null    object\n",
      " 5   main food    135 non-null    object\n",
      " 6   reg date     135 non-null    object\n",
      "dtypes: object(7)\n",
      "memory usage: 7.5+ KB\n"
     ]
    }
   ],
   "source": [
    "df_svc = pd.read_csv('./svData/restaurant.csv', encoding = 'CP949') #135건\n",
    "\n",
    "df_svc['main food'] = df_svc['main food'].astype(str)\n",
    "df_svc.info()"
   ]
  },
  {
   "cell_type": "code",
   "execution_count": 164,
   "id": "a872aa15",
   "metadata": {},
   "outputs": [
    {
     "name": "stdout",
     "output_type": "stream",
     "text": [
      "<class 'pandas.core.frame.DataFrame'>\n",
      "RangeIndex: 302 entries, 0 to 301\n",
      "Data columns (total 7 columns):\n",
      " #   Column       Non-Null Count  Dtype \n",
      "---  ------       --------------  ----- \n",
      " 0   store        302 non-null    object\n",
      " 1   tel          123 non-null    object\n",
      " 2   jibeon addr  302 non-null    object\n",
      " 3   road addr    286 non-null    object\n",
      " 4   gu           288 non-null    object\n",
      " 5   main food    294 non-null    object\n",
      " 6   reg date     302 non-null    object\n",
      "dtypes: object(7)\n",
      "memory usage: 16.6+ KB\n"
     ]
    },
    {
     "data": {
      "text/html": [
       "<div>\n",
       "<style scoped>\n",
       "    .dataframe tbody tr th:only-of-type {\n",
       "        vertical-align: middle;\n",
       "    }\n",
       "\n",
       "    .dataframe tbody tr th {\n",
       "        vertical-align: top;\n",
       "    }\n",
       "\n",
       "    .dataframe thead th {\n",
       "        text-align: right;\n",
       "    }\n",
       "</style>\n",
       "<table border=\"1\" class=\"dataframe\">\n",
       "  <thead>\n",
       "    <tr style=\"text-align: right;\">\n",
       "      <th></th>\n",
       "      <th>store</th>\n",
       "      <th>tel</th>\n",
       "      <th>jibeon addr</th>\n",
       "      <th>road addr</th>\n",
       "      <th>gu</th>\n",
       "      <th>main food</th>\n",
       "      <th>reg date</th>\n",
       "    </tr>\n",
       "  </thead>\n",
       "  <tbody>\n",
       "    <tr>\n",
       "      <th>0</th>\n",
       "      <td>(주)아모제마르쉐신촌점</td>\n",
       "      <td>322-7757</td>\n",
       "      <td>서울특별시 서대문구 창천동 72-14번지 캠퍼스프라자 지1층</td>\n",
       "      <td>서울특별시 서대문구 신촌로 73  (창천동,캠퍼스프라자 지1층)</td>\n",
       "      <td>서대문구</td>\n",
       "      <td>nan</td>\n",
       "      <td>2023-05-20</td>\n",
       "    </tr>\n",
       "    <tr>\n",
       "      <th>1</th>\n",
       "      <td>롸이즈온(주)베니건스이대점</td>\n",
       "      <td>NaN</td>\n",
       "      <td>서울특별시 서대문구 대현동 101-7번지</td>\n",
       "      <td>서울특별시 서대문구 신촌역로 10  (대현동)</td>\n",
       "      <td>서대문구</td>\n",
       "      <td>nan</td>\n",
       "      <td>2023-05-20</td>\n",
       "    </tr>\n",
       "    <tr>\n",
       "      <th>2</th>\n",
       "      <td>씨제이푸드(주) 에프터더레인 안국점 (정진구)</td>\n",
       "      <td>02-730-2051</td>\n",
       "      <td>서울특별시 종로구 화동 117번지</td>\n",
       "      <td>서울특별시 종로구 북촌로 31-22  (화동)</td>\n",
       "      <td>종로구</td>\n",
       "      <td>nan</td>\n",
       "      <td>2023-05-20</td>\n",
       "    </tr>\n",
       "    <tr>\n",
       "      <th>3</th>\n",
       "      <td>안나푸르나(Anna Purna)</td>\n",
       "      <td>747-2976</td>\n",
       "      <td>서울특별시 종로구 창신동 695-1번지 3층</td>\n",
       "      <td>서울특별시 종로구 종로 291  (창신동,3층)</td>\n",
       "      <td>종로구</td>\n",
       "      <td>nan</td>\n",
       "      <td>2023-05-20</td>\n",
       "    </tr>\n",
       "    <tr>\n",
       "      <th>4</th>\n",
       "      <td>새골목집</td>\n",
       "      <td>749-3336</td>\n",
       "      <td>서울특별시 용산구 이태원동 116-15번지 지상1층</td>\n",
       "      <td>서울특별시 용산구 이태원로27가길 50  (이태원동,지상1층)</td>\n",
       "      <td>용산구</td>\n",
       "      <td>nan</td>\n",
       "      <td>2023-05-20</td>\n",
       "    </tr>\n",
       "  </tbody>\n",
       "</table>\n",
       "</div>"
      ],
      "text/plain": [
       "                       store          tel                        jibeon addr  \\\n",
       "0               (주)아모제마르쉐신촌점     322-7757  서울특별시 서대문구 창천동 72-14번지 캠퍼스프라자 지1층   \n",
       "1             롸이즈온(주)베니건스이대점          NaN             서울특별시 서대문구 대현동 101-7번지   \n",
       "2  씨제이푸드(주) 에프터더레인 안국점 (정진구)  02-730-2051                서울특별시 종로구 화동 117번지    \n",
       "3          안나푸르나(Anna Purna)     747-2976          서울특별시 종로구 창신동 695-1번지 3층    \n",
       "4                       새골목집     749-3336      서울특별시 용산구 이태원동 116-15번지 지상1층    \n",
       "\n",
       "                             road addr    gu main food    reg date  \n",
       "0  서울특별시 서대문구 신촌로 73  (창천동,캠퍼스프라자 지1층)  서대문구       nan  2023-05-20  \n",
       "1            서울특별시 서대문구 신촌역로 10  (대현동)  서대문구       nan  2023-05-20  \n",
       "2            서울특별시 종로구 북촌로 31-22  (화동)   종로구       nan  2023-05-20  \n",
       "3           서울특별시 종로구 종로 291  (창신동,3층)   종로구       nan  2023-05-20  \n",
       "4   서울특별시 용산구 이태원로27가길 50  (이태원동,지상1층)   용산구       nan  2023-05-20  "
      ]
     },
     "execution_count": 164,
     "metadata": {},
     "output_type": "execute_result"
    }
   ],
   "source": [
    "df_source1 = pd.read_csv('./srData/02sd.csv', encoding = 'CP949') #서울시 서대문구 모범음식점 지정 현황.csv 167건\n",
    "\n",
    "#붙일 데이터 컬럼 추가하고 그외 컬럼 삭제하기\n",
    "df_source1['store'] = df_source1['업소명']\n",
    "df_source1['tel']    = np.nan\n",
    "df_source1['jibeon addr'] = df_source1['소재지지번']\n",
    "df_source1['road addr'] = df_source1['소재지도로명']\n",
    "df_source1['gu'] = df_source1['소재지도로명'].apply(lambda x: x.split(' ')[1] if isinstance(x, str) and len(x.split(' ')) > 1 else '')\n",
    "df_source1['main food'] = df_source1['주된음식']\n",
    "df_source1['reg date'] = datetime.datetime.now().strftime(\"%Y-%m-%d\")\n",
    "\n",
    "df_source1 = df_source1.drop(df_source1.columns.difference(['store','tel','jibeon addr','road addr','gu','main food','reg date']), axis = 1)\n",
    "\n",
    "# 열로 데이터프레임 붙이기\n",
    "merged_df = pd.concat([df_svc, df_source1], ignore_index=True)\n",
    "\n",
    "#csv파일 저장\n",
    "merged_df.to_csv('./svData/restaurant.csv', index = False, encoding = 'CP949') #서울시 관광식당 인허가 정보.csv\n",
    "\n",
    "merged_df.info()\n",
    "merged_df.head()"
   ]
  },
  {
   "cell_type": "code",
   "execution_count": 167,
   "id": "a4a4d4c5",
   "metadata": {
    "scrolled": true
   },
   "outputs": [
    {
     "name": "stdout",
     "output_type": "stream",
     "text": [
      "<class 'pandas.core.frame.DataFrame'>\n",
      "RangeIndex: 302 entries, 0 to 301\n",
      "Data columns (total 7 columns):\n",
      " #   Column       Non-Null Count  Dtype \n",
      "---  ------       --------------  ----- \n",
      " 0   store        302 non-null    object\n",
      " 1   tel          123 non-null    object\n",
      " 2   jibeon addr  302 non-null    object\n",
      " 3   road addr    286 non-null    object\n",
      " 4   gu           286 non-null    object\n",
      " 5   main food    159 non-null    object\n",
      " 6   reg date     302 non-null    object\n",
      "dtypes: object(7)\n",
      "memory usage: 16.6+ KB\n"
     ]
    },
    {
     "data": {
      "text/plain": [
       "array(['서대문구', '종로구', '용산구', nan, '동대문구', '성북구', '노원구', '양천구', '구로구',\n",
       "       '관악구', '강남구'], dtype=object)"
      ]
     },
     "execution_count": 167,
     "metadata": {},
     "output_type": "execute_result"
    }
   ],
   "source": [
    "df = pd.read_csv('./svData/restaurant.csv', encoding = 'CP949')\n",
    "df.info()\n",
    "\n",
    "df['gu'] = df['jibeon addr'].apply(lambda x: x.split(' ')[1] if isinstance(x, str) and len(x.split(' ')) > 1 else '')\n",
    "df['gu'].isnull().sum() #16"
   ]
  },
  {
   "cell_type": "code",
   "execution_count": 283,
   "id": "2280d523",
   "metadata": {},
   "outputs": [
    {
     "data": {
      "text/plain": [
       "서대문구    169\n",
       "용산구      49\n",
       "강남구      43\n",
       "구로구      11\n",
       "성북구      10\n",
       "동대문구      6\n",
       "관악구       6\n",
       "노원구       3\n",
       "양천구       3\n",
       "종로구       2\n",
       "Name: gu, dtype: int64"
      ]
     },
     "execution_count": 283,
     "metadata": {},
     "output_type": "execute_result"
    }
   ],
   "source": [
    "df['gu'].value_counts() #sort=True 한글 안됨"
   ]
  }
 ],
 "metadata": {
  "kernelspec": {
   "display_name": "Python 3 (ipykernel)",
   "language": "python",
   "name": "python3"
  },
  "language_info": {
   "codemirror_mode": {
    "name": "ipython",
    "version": 3
   },
   "file_extension": ".py",
   "mimetype": "text/x-python",
   "name": "python",
   "nbconvert_exporter": "python",
   "pygments_lexer": "ipython3",
   "version": "3.10.9"
  }
 },
 "nbformat": 4,
 "nbformat_minor": 5
}
