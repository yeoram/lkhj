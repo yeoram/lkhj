{
 "cells": [
  {
   "cell_type": "code",
   "execution_count": 1,
   "id": "47ea58fe",
   "metadata": {},
   "outputs": [],
   "source": [
    "import requests\n",
    "import json\n",
    "import ssl\n",
    "import pandas as pd\n",
    "\n",
    "#(확인필요) 필요정보 시작페이지 4~168 * 1000 + 659건 = 164659건 \n",
    "#<Response [200]> 성공시에만 데이터 처리 추가\n",
    "\n",
    "tg_url = 'https://seoul.openapi.redtable.global/api/rstr' #식당기본정보,엔드포인트 URL\n",
    "params = {\n",
    "    'serviceKey': 'oZFJFbDm058mzGfbOGbVKGkpeZPJqRwu9vguWe7dpZuWoG7hRCtpEEroFjpnFY4w',\n",
    "    'pageNo': 1 ,  # 시작 페이지\n",
    "    'per_page': 1000  # 페이지당 데이터 개수\n",
    "}\n",
    "\n",
    "dfs = []\n",
    "\n",
    "for page in range(1, 51): #대략 5초소요, 총 168페이지\n",
    "    response = requests.get(tg_url, params=params)\n",
    "    data     = json.loads(response.text)\n",
    "    df       = pd.json_normalize(data['body'])\n",
    "    dfs.append(df)\n",
    "    \n",
    "    params['pageNo'] += 1\n",
    "\n",
    "total_df = pd.concat(dfs)\n",
    "total_df.to_csv('./svData/restaurant.csv', index=False, encoding = 'CP949')"
   ]
  },
  {
   "cell_type": "code",
   "execution_count": 2,
   "id": "80eb6d08",
   "metadata": {},
   "outputs": [
    {
     "data": {
      "text/plain": [
       "(50000, 11)"
      ]
     },
     "execution_count": 2,
     "metadata": {},
     "output_type": "execute_result"
    }
   ],
   "source": [
    "rdf = pd.read_csv('./svData/restaurant.csv', encoding = 'CP949')\n",
    "rdf.shape"
   ]
  },
  {
   "cell_type": "code",
   "execution_count": 3,
   "id": "269dda21",
   "metadata": {},
   "outputs": [
    {
     "name": "stdout",
     "output_type": "stream",
     "text": [
      "<class 'pandas.core.frame.DataFrame'>\n",
      "RangeIndex: 50000 entries, 0 to 49999\n",
      "Data columns (total 11 columns):\n",
      " #   Column               Non-Null Count  Dtype  \n",
      "---  ------               --------------  -----  \n",
      " 0   RSTR_ID              50000 non-null  int64  \n",
      " 1   RSTR_NM              50000 non-null  object \n",
      " 2   RSTR_RDNMADR         49474 non-null  object \n",
      " 3   RSTR_LNNO_ADRES      49004 non-null  object \n",
      " 4   RSTR_LA              50000 non-null  float64\n",
      " 5   RSTR_LO              50000 non-null  float64\n",
      " 6   RSTR_TELNO           46173 non-null  object \n",
      " 7   BSNS_STATM_BZCND_NM  47261 non-null  object \n",
      " 8   BSNS_LCNC_NM         50000 non-null  object \n",
      " 9   RSTR_INTRCN_CONT     50000 non-null  object \n",
      " 10  RSTR_AREA_CLSF_NM    2753 non-null   object \n",
      "dtypes: float64(2), int64(1), object(8)\n",
      "memory usage: 4.2+ MB\n"
     ]
    }
   ],
   "source": [
    "rdf.info()"
   ]
  },
  {
   "cell_type": "code",
   "execution_count": 4,
   "id": "b2fd62ae",
   "metadata": {},
   "outputs": [
    {
     "data": {
      "text/html": [
       "<div>\n",
       "<style scoped>\n",
       "    .dataframe tbody tr th:only-of-type {\n",
       "        vertical-align: middle;\n",
       "    }\n",
       "\n",
       "    .dataframe tbody tr th {\n",
       "        vertical-align: top;\n",
       "    }\n",
       "\n",
       "    .dataframe thead th {\n",
       "        text-align: right;\n",
       "    }\n",
       "</style>\n",
       "<table border=\"1\" class=\"dataframe\">\n",
       "  <thead>\n",
       "    <tr style=\"text-align: right;\">\n",
       "      <th></th>\n",
       "      <th>RSTR_ID</th>\n",
       "      <th>RSTR_NM</th>\n",
       "      <th>RSTR_RDNMADR</th>\n",
       "      <th>RSTR_LNNO_ADRES</th>\n",
       "      <th>RSTR_LA</th>\n",
       "      <th>RSTR_LO</th>\n",
       "      <th>RSTR_TELNO</th>\n",
       "      <th>BSNS_STATM_BZCND_NM</th>\n",
       "      <th>BSNS_LCNC_NM</th>\n",
       "      <th>RSTR_INTRCN_CONT</th>\n",
       "      <th>RSTR_AREA_CLSF_NM</th>\n",
       "    </tr>\n",
       "  </thead>\n",
       "  <tbody>\n",
       "    <tr>\n",
       "      <th>0</th>\n",
       "      <td>1088</td>\n",
       "      <td>펜앤커피</td>\n",
       "      <td>서울특별시 종로구 인사동5길 12</td>\n",
       "      <td>서울특별시 종로구 관훈동 198-10</td>\n",
       "      <td>37.572857</td>\n",
       "      <td>126.985577</td>\n",
       "      <td>02-725-0062</td>\n",
       "      <td>기타</td>\n",
       "      <td>일반음식점</td>\n",
       "      <td>서울특별시 종로구에서 가 볼 만한 식당을 찾으신다면? 종각역 근처에 있는 \"펜앤커피...</td>\n",
       "      <td>NaN</td>\n",
       "    </tr>\n",
       "    <tr>\n",
       "      <th>1</th>\n",
       "      <td>1097</td>\n",
       "      <td>배초향</td>\n",
       "      <td>서울특별시 강남구 도산대로55길 20</td>\n",
       "      <td>서울특별시 강남구 청담동 88-5</td>\n",
       "      <td>37.524788</td>\n",
       "      <td>127.040623</td>\n",
       "      <td>NaN</td>\n",
       "      <td>한식</td>\n",
       "      <td>일반음식점</td>\n",
       "      <td>서울특별시 강남구에 가신다면 \"배초향\"에 방문해보세요~</td>\n",
       "      <td>NaN</td>\n",
       "    </tr>\n",
       "    <tr>\n",
       "      <th>2</th>\n",
       "      <td>1115</td>\n",
       "      <td>토담토담</td>\n",
       "      <td>서울특별시 종로구 수표로 121</td>\n",
       "      <td>서울특별시 종로구 낙원동 218-1</td>\n",
       "      <td>37.571998</td>\n",
       "      <td>126.988855</td>\n",
       "      <td>02-744-7934</td>\n",
       "      <td>분식</td>\n",
       "      <td>일반음식점</td>\n",
       "      <td>\"토담토담\"은 서울특별시 종로구에 있는 맛집으로, 가장 가까운 지하철역은 종로3가역...</td>\n",
       "      <td>NaN</td>\n",
       "    </tr>\n",
       "    <tr>\n",
       "      <th>3</th>\n",
       "      <td>1116</td>\n",
       "      <td>또와참숯돼지갈비</td>\n",
       "      <td>서울특별시 종로구 돈화문로11가길 48</td>\n",
       "      <td>서울특별시 종로구 와룡동 166</td>\n",
       "      <td>37.574727</td>\n",
       "      <td>126.990652</td>\n",
       "      <td>02-6760-0399</td>\n",
       "      <td>한식</td>\n",
       "      <td>일반음식점</td>\n",
       "      <td>\"또와참숯돼지갈비\"는 서울특별시 종로구에 있는 맛집으로, 가장 가까운 지하철역은 안...</td>\n",
       "      <td>NaN</td>\n",
       "    </tr>\n",
       "    <tr>\n",
       "      <th>4</th>\n",
       "      <td>1117</td>\n",
       "      <td>동성각</td>\n",
       "      <td>서울특별시 종로구 새문안로9길 29-2</td>\n",
       "      <td>서울특별시 종로구 당주동 18</td>\n",
       "      <td>37.571444</td>\n",
       "      <td>126.975272</td>\n",
       "      <td>02-735-0107</td>\n",
       "      <td>중국식</td>\n",
       "      <td>일반음식점</td>\n",
       "      <td>\"동성각\"은 서울특별시 종로구에 있는 맛집으로, 가장 가까운 지하철역은 광화문역입니...</td>\n",
       "      <td>NaN</td>\n",
       "    </tr>\n",
       "  </tbody>\n",
       "</table>\n",
       "</div>"
      ],
      "text/plain": [
       "   RSTR_ID   RSTR_NM           RSTR_RDNMADR       RSTR_LNNO_ADRES    RSTR_LA  \\\n",
       "0     1088      펜앤커피     서울특별시 종로구 인사동5길 12  서울특별시 종로구 관훈동 198-10  37.572857   \n",
       "1     1097       배초향   서울특별시 강남구 도산대로55길 20    서울특별시 강남구 청담동 88-5  37.524788   \n",
       "2     1115      토담토담      서울특별시 종로구 수표로 121   서울특별시 종로구 낙원동 218-1  37.571998   \n",
       "3     1116  또와참숯돼지갈비  서울특별시 종로구 돈화문로11가길 48     서울특별시 종로구 와룡동 166  37.574727   \n",
       "4     1117       동성각  서울특별시 종로구 새문안로9길 29-2      서울특별시 종로구 당주동 18  37.571444   \n",
       "\n",
       "      RSTR_LO    RSTR_TELNO BSNS_STATM_BZCND_NM BSNS_LCNC_NM  \\\n",
       "0  126.985577   02-725-0062                  기타        일반음식점   \n",
       "1  127.040623           NaN                  한식        일반음식점   \n",
       "2  126.988855   02-744-7934                  분식        일반음식점   \n",
       "3  126.990652  02-6760-0399                  한식        일반음식점   \n",
       "4  126.975272   02-735-0107                 중국식        일반음식점   \n",
       "\n",
       "                                    RSTR_INTRCN_CONT RSTR_AREA_CLSF_NM  \n",
       "0  서울특별시 종로구에서 가 볼 만한 식당을 찾으신다면? 종각역 근처에 있는 \"펜앤커피...               NaN  \n",
       "1                     서울특별시 강남구에 가신다면 \"배초향\"에 방문해보세요~               NaN  \n",
       "2  \"토담토담\"은 서울특별시 종로구에 있는 맛집으로, 가장 가까운 지하철역은 종로3가역...               NaN  \n",
       "3  \"또와참숯돼지갈비\"는 서울특별시 종로구에 있는 맛집으로, 가장 가까운 지하철역은 안...               NaN  \n",
       "4  \"동성각\"은 서울특별시 종로구에 있는 맛집으로, 가장 가까운 지하철역은 광화문역입니...               NaN  "
      ]
     },
     "execution_count": 4,
     "metadata": {},
     "output_type": "execute_result"
    }
   ],
   "source": [
    "rdf.head()"
   ]
  },
  {
   "cell_type": "code",
   "execution_count": 5,
   "id": "24878892",
   "metadata": {},
   "outputs": [
    {
     "data": {
      "text/plain": [
       "array(['기타', '한식', '분식', '중국식', '경양식', '다방', nan, '일식', '커피숍', '호프/통닭',\n",
       "       '외국음식전문점(인도,태국등)', '뷔페식', '제과점영업', '일반조리판매', '정종/대포집/소주방',\n",
       "       '식육(숯불구이)', '김밥(도시락)', '패스트푸드', '탕류(보신용)', '기타 휴게음식점', '냉면집',\n",
       "       '감성주점', '회집', '복어취급', '라이브카페', '관광호텔', '백화점', '기타(편의점)', '공항',\n",
       "       '아이스크림', '철도역구내', '유원지', '전통찻집', '패밀리레스토랑'], dtype=object)"
      ]
     },
     "execution_count": 5,
     "metadata": {},
     "output_type": "execute_result"
    }
   ],
   "source": [
    "rdf['BSNS_STATM_BZCND_NM'].unique()"
   ]
  },
  {
   "cell_type": "code",
   "execution_count": 10,
   "id": "b6b016f3",
   "metadata": {},
   "outputs": [
    {
     "data": {
      "text/plain": [
       "2739"
      ]
     },
     "execution_count": 10,
     "metadata": {},
     "output_type": "execute_result"
    }
   ],
   "source": [
    "rdf['BSNS_STATM_BZCND_NM'].isnull().sum()  #nan 값 삭제"
   ]
  },
  {
   "cell_type": "code",
   "execution_count": 11,
   "id": "4fb7d416",
   "metadata": {},
   "outputs": [],
   "source": [
    "rdf.dropna(subset=['BSNS_STATM_BZCND_NM'], inplace=True)"
   ]
  },
  {
   "cell_type": "code",
   "execution_count": 13,
   "id": "fad9aa1b",
   "metadata": {},
   "outputs": [
    {
     "data": {
      "text/plain": [
       "(47261, 11)"
      ]
     },
     "execution_count": 13,
     "metadata": {},
     "output_type": "execute_result"
    }
   ],
   "source": [
    "rdf.shape"
   ]
  },
  {
   "cell_type": "code",
   "execution_count": 18,
   "id": "457c05e7",
   "metadata": {},
   "outputs": [
    {
     "data": {
      "text/plain": [
       "0"
      ]
     },
     "execution_count": 18,
     "metadata": {},
     "output_type": "execute_result"
    }
   ],
   "source": [
    "rdf['RSTR_RDNMADR'].isnull().sum() #RSTR_RDNMADR 널값 503 삭제 < RSTR_LNNO_ADRES 널값 946 \n",
    "#rdf.dropna(subset=['RSTR_RDNMADR'], inplace=True)"
   ]
  },
  {
   "cell_type": "code",
   "execution_count": 19,
   "id": "1d269a69",
   "metadata": {},
   "outputs": [],
   "source": [
    "rdf['gu'] = rdf['RSTR_RDNMADR'].apply(lambda x: x.split(' ')[1] if isinstance(x, str) and len(x.split(' ')) > 1 else '')"
   ]
  },
  {
   "cell_type": "code",
   "execution_count": 21,
   "id": "e8a26af1",
   "metadata": {},
   "outputs": [
    {
     "data": {
      "text/plain": [
       "0"
      ]
     },
     "execution_count": 21,
     "metadata": {},
     "output_type": "execute_result"
    }
   ],
   "source": [
    "#rdf.head()\n",
    "rdf['gu'].isnull().sum()"
   ]
  },
  {
   "cell_type": "code",
   "execution_count": 22,
   "id": "729780f3",
   "metadata": {},
   "outputs": [],
   "source": [
    "rdf.to_csv('./svData/restaurant.csv', index = False, encoding = 'CP949') #최종 저장"
   ]
  },
  {
   "cell_type": "code",
   "execution_count": 23,
   "id": "5baebf18",
   "metadata": {},
   "outputs": [
    {
     "data": {
      "text/plain": [
       "(46758, 12)"
      ]
     },
     "execution_count": 23,
     "metadata": {},
     "output_type": "execute_result"
    }
   ],
   "source": [
    "rdf.shape"
   ]
  }
 ],
 "metadata": {
  "kernelspec": {
   "display_name": "Python 3 (ipykernel)",
   "language": "python",
   "name": "python3"
  },
  "language_info": {
   "codemirror_mode": {
    "name": "ipython",
    "version": 3
   },
   "file_extension": ".py",
   "mimetype": "text/x-python",
   "name": "python",
   "nbconvert_exporter": "python",
   "pygments_lexer": "ipython3",
   "version": "3.10.9"
  }
 },
 "nbformat": 4,
 "nbformat_minor": 5
}
