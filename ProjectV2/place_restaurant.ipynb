{
 "cells": [
  {
   "cell_type": "code",
   "execution_count": 344,
   "id": "ff491e3f",
   "metadata": {},
   "outputs": [
    {
     "name": "stdout",
     "output_type": "stream",
     "text": [
      "e: store                                                   티엔티엔\n",
      "tel                                                 566-8090\n",
      "jibeon addr        서울특별시 강남구 역삼동 708-33번지 파라다이스빌딩 지하1층 101호 \n",
      "road addr      서울특별시 강남구 테헤란로52길 21  (역삼동,파라다이스빌딩 지하1층 101호)\n",
      "gu                                                       강남구\n",
      "main food                                                NaN\n",
      "reg date                                          2023-05-20\n",
      "Name: 96, dtype: object  w: store                              연희동손칼국수\n",
      "tel                                    NaN\n",
      "jibeon addr    서울특별시 서대문구 연희동  132번지 29호  \n",
      "road addr        서울특별시 서대문구 연희맛로 37, (연희동)\n",
      "gu                                    서대문구\n",
      "main food                               한식\n",
      "reg date                        2023-05-20\n",
      "Name: 252, dtype: object  s: store                                 사이공그릴\n",
      "tel                                 7937784\n",
      "jibeon addr         서울특별시 용산구 이태원동 119-7번지 \n",
      "road addr      서울특별시 용산구 이태원로 173-7  (이태원동)\n",
      "gu                                      용산구\n",
      "main food                               NaN\n",
      "reg date                         2023-05-20\n",
      "Name: 34, dtype: object  n: store                    싸루(SARU)인도&네팔푸드레스토랑\n",
      "tel                              02-953-1916\n",
      "jibeon addr     서울특별시 성북구 안암동5가 103-39번지 2층 \n",
      "road addr      서울특별시 성북구 인촌로26길 42-3 (안암동5가)\n",
      "gu                                       성북구\n",
      "main food                                NaN\n",
      "reg date                          2023-05-20\n",
      "Name: 69, dtype: object\n"
     ]
    }
   ],
   "source": [
    "# Project V2.0\n",
    "# Contents : Seoul Restaurant recommend\n",
    "# Coding   : ejlee\n",
    "# Date     : 2023.05.21\n",
    "# Description : 서울시 4개 지역으로 분할하여 4곳 추천\n",
    "\n",
    "import numpy as np\n",
    "import pandas as pd\n",
    "import random\n",
    "\n",
    "def recommend_store(store_list) : \n",
    "    matching_stores = store_list\n",
    "\n",
    "    if not matching_stores.empty:\n",
    "        random_index = random.randint(0, len(matching_stores) - 1)\n",
    "        random_store = matching_stores.iloc[random_index]\n",
    "        return random_store\n",
    "    else:\n",
    "        return 'recommend_store_error:-999'\n",
    "\n",
    "#서비스 4개 지역정의\n",
    "e_gu = ['강동구', '강남구', '송파구', '광진구', '성동구']\n",
    "w_gu = ['강서구', '구로구', '마포구', '서대문구', '양천구', '은평구', '영등포구']\n",
    "s_gu = ['관악구', '금천구', '동작구', '서초구', '용산구', '중구']\n",
    "n_gu = ['강북구', '노원구', '도봉구', '동대문구', '성북구', '종로구', '중랑구']\n",
    "\n",
    "df = pd.read_csv('./svData/restaurant.csv', encoding = 'CP949') #취합음식점 파일 읽기\n",
    "\n",
    "e_store = df[df['gu'].isin(e_gu)]\n",
    "w_store = df[df['gu'].isin(w_gu)]\n",
    "s_store = df[df['gu'].isin(s_gu)]\n",
    "n_store = df[df['gu'].isin(n_gu)]\n",
    "\n",
    "print('e:', recommend_store(e_store),' w:', recommend_store(w_store),' s:', recommend_store(s_store),' n:', recommend_store(n_store))\n",
    "\n"
   ]
  },
  {
   "cell_type": "code",
   "execution_count": null,
   "id": "2bb96c26",
   "metadata": {},
   "outputs": [],
   "source": []
  }
 ],
 "metadata": {
  "kernelspec": {
   "display_name": "Python 3 (ipykernel)",
   "language": "python",
   "name": "python3"
  },
  "language_info": {
   "codemirror_mode": {
    "name": "ipython",
    "version": 3
   },
   "file_extension": ".py",
   "mimetype": "text/x-python",
   "name": "python",
   "nbconvert_exporter": "python",
   "pygments_lexer": "ipython3",
   "version": "3.10.9"
  }
 },
 "nbformat": 4,
 "nbformat_minor": 5
}
